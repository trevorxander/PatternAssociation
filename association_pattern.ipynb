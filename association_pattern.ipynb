{
 "cells": [
  {
   "cell_type": "code",
<<<<<<< HEAD
   "execution_count": 2,
=======
   "execution_count": 70,
>>>>>>> 21786f9e474ea7cd86ddb8068f284e36f1993450
   "metadata": {
    "collapsed": true,
    "pycharm": {
     "is_executing": false
    }
   },
   "outputs": [],
   "source": [
    "import pandas as pd\n",
    "import numpy as np\n",
<<<<<<< HEAD
=======
    "from copy import deepcopy\n",
    "from scipy.special import softmax\n",
>>>>>>> 21786f9e474ea7cd86ddb8068f284e36f1993450
    "raw_file_loc = 'datasets/raw.xlsx'\n",
    "\n"
   ]
  },
  {
   "cell_type": "code",
<<<<<<< HEAD
   "execution_count": 23,
   "outputs": [
    {
     "data": {
      "text/plain": "               ID  Behvior score      Unnamed: 2 Motivation Intention  \\\n0          219318       0.113203      Motivation                        \n1             NaN       0.671992       Intention                        \n2             NaN       0.570994        Attitude                        \n3             NaN       0.749223  Take ownership                        \n4             NaN            NaN             NaN                        \n5          218360       0.756554      Motivation                        \n6             NaN       0.687961       Intention                        \n7             NaN       0.855271        Attitude                        \n8             NaN       0.806866  Take ownership                        \n9             NaN            NaN             NaN                        \n10         322022       0.108150      Motivation                        \n11            NaN       0.669121       Intention                        \n12            NaN       0.518168        Attitude                        \n13            NaN       0.584177  Take ownership                        \n14            NaN            NaN             NaN                        \n15         322011       0.392928      Motivation                        \n16            NaN       0.710477       Intention                        \n17            NaN       0.630076        Attitude                        \n18            NaN       0.817096  Take ownership                        \n19            NaN            NaN             NaN                        \n20         219706       0.872827      Motivation                        \n21            NaN       0.493724       Intention                        \n22            NaN       0.717032        Attitude                        \n23            NaN       0.979536  Take ownership                        \n24            NaN            NaN             NaN                        \n25        4251301       0.947127      Motivation                        \n26            NaN       0.616590       Intention                        \n27            NaN       0.896948        Attitude                        \n28            NaN       0.921150  Take ownership                        \n29            NaN            NaN             NaN                        \n..            ...            ...             ...        ...       ...   \n104           NaN            NaN             NaN                        \n105  DMS191941048       0.356425      Motivation                        \n106           NaN       0.461736       Intention                        \n107           NaN       0.543047        Attitude                        \n108           NaN       0.643681  Take ownership                        \n109           NaN            NaN             NaN                        \n110   DMS19194721       0.863171      Motivation                        \n111           NaN       0.753433       Intention                        \n112           NaN       0.774057        Attitude                        \n113           NaN       0.680289  Take ownership                        \n114           NaN            NaN             NaN                        \n115  DMS191941034       0.254469      Motivation                        \n116           NaN       0.912929       Intention                        \n117           NaN       0.578132        Attitude                        \n118           NaN       0.379958  Take ownership                        \n119           NaN            NaN             NaN                        \n120  DMS191941256       0.637916      Motivation                        \n121           NaN       0.710646       Intention                        \n122           NaN       0.768774        Attitude                        \n123           NaN       0.565874  Take ownership                        \n124           NaN            NaN             NaN                        \n125    DM19194729       0.722193      Motivation                        \n126           NaN       0.625771       Intention                        \n127           NaN       0.707239        Attitude                        \n128           NaN       0.738471  Take ownership                        \n129           NaN            NaN             NaN                        \n130  DMS191941114       0.155592      Motivation                        \n131           NaN       0.531050       Intention                        \n132           NaN       0.410421        Attitude                        \n133           NaN       0.685535  Take ownership                        \n\n    Attitude Take Ownership  \n0                            \n1                            \n2                            \n3                            \n4                            \n5                            \n6                            \n7                            \n8                            \n9                            \n10                           \n11                           \n12                           \n13                           \n14                           \n15                           \n16                           \n17                           \n18                           \n19                           \n20                           \n21                           \n22                           \n23                           \n24                           \n25                           \n26                           \n27                           \n28                           \n29                           \n..       ...            ...  \n104                          \n105                          \n106                          \n107                          \n108                          \n109                          \n110                          \n111                          \n112                          \n113                          \n114                          \n115                          \n116                          \n117                          \n118                          \n119                          \n120                          \n121                          \n122                          \n123                          \n124                          \n125                          \n126                          \n127                          \n128                          \n129                          \n130                          \n131                          \n132                          \n133                          \n\n[134 rows x 7 columns]",
      "text/html": "<div>\n<style scoped>\n    .dataframe tbody tr th:only-of-type {\n        vertical-align: middle;\n    }\n\n    .dataframe tbody tr th {\n        vertical-align: top;\n    }\n\n    .dataframe thead th {\n        text-align: right;\n    }\n</style>\n<table border=\"1\" class=\"dataframe\">\n  <thead>\n    <tr style=\"text-align: right;\">\n      <th></th>\n      <th>ID</th>\n      <th>Behvior score</th>\n      <th>Unnamed: 2</th>\n      <th>Motivation</th>\n      <th>Intention</th>\n      <th>Attitude</th>\n      <th>Take Ownership</th>\n    </tr>\n  </thead>\n  <tbody>\n    <tr>\n      <th>0</th>\n      <td>219318</td>\n      <td>0.113203</td>\n      <td>Motivation</td>\n      <td></td>\n      <td></td>\n      <td></td>\n      <td></td>\n    </tr>\n    <tr>\n      <th>1</th>\n      <td>NaN</td>\n      <td>0.671992</td>\n      <td>Intention</td>\n      <td></td>\n      <td></td>\n      <td></td>\n      <td></td>\n    </tr>\n    <tr>\n      <th>2</th>\n      <td>NaN</td>\n      <td>0.570994</td>\n      <td>Attitude</td>\n      <td></td>\n      <td></td>\n      <td></td>\n      <td></td>\n    </tr>\n    <tr>\n      <th>3</th>\n      <td>NaN</td>\n      <td>0.749223</td>\n      <td>Take ownership</td>\n      <td></td>\n      <td></td>\n      <td></td>\n      <td></td>\n    </tr>\n    <tr>\n      <th>4</th>\n      <td>NaN</td>\n      <td>NaN</td>\n      <td>NaN</td>\n      <td></td>\n      <td></td>\n      <td></td>\n      <td></td>\n    </tr>\n    <tr>\n      <th>5</th>\n      <td>218360</td>\n      <td>0.756554</td>\n      <td>Motivation</td>\n      <td></td>\n      <td></td>\n      <td></td>\n      <td></td>\n    </tr>\n    <tr>\n      <th>6</th>\n      <td>NaN</td>\n      <td>0.687961</td>\n      <td>Intention</td>\n      <td></td>\n      <td></td>\n      <td></td>\n      <td></td>\n    </tr>\n    <tr>\n      <th>7</th>\n      <td>NaN</td>\n      <td>0.855271</td>\n      <td>Attitude</td>\n      <td></td>\n      <td></td>\n      <td></td>\n      <td></td>\n    </tr>\n    <tr>\n      <th>8</th>\n      <td>NaN</td>\n      <td>0.806866</td>\n      <td>Take ownership</td>\n      <td></td>\n      <td></td>\n      <td></td>\n      <td></td>\n    </tr>\n    <tr>\n      <th>9</th>\n      <td>NaN</td>\n      <td>NaN</td>\n      <td>NaN</td>\n      <td></td>\n      <td></td>\n      <td></td>\n      <td></td>\n    </tr>\n    <tr>\n      <th>10</th>\n      <td>322022</td>\n      <td>0.108150</td>\n      <td>Motivation</td>\n      <td></td>\n      <td></td>\n      <td></td>\n      <td></td>\n    </tr>\n    <tr>\n      <th>11</th>\n      <td>NaN</td>\n      <td>0.669121</td>\n      <td>Intention</td>\n      <td></td>\n      <td></td>\n      <td></td>\n      <td></td>\n    </tr>\n    <tr>\n      <th>12</th>\n      <td>NaN</td>\n      <td>0.518168</td>\n      <td>Attitude</td>\n      <td></td>\n      <td></td>\n      <td></td>\n      <td></td>\n    </tr>\n    <tr>\n      <th>13</th>\n      <td>NaN</td>\n      <td>0.584177</td>\n      <td>Take ownership</td>\n      <td></td>\n      <td></td>\n      <td></td>\n      <td></td>\n    </tr>\n    <tr>\n      <th>14</th>\n      <td>NaN</td>\n      <td>NaN</td>\n      <td>NaN</td>\n      <td></td>\n      <td></td>\n      <td></td>\n      <td></td>\n    </tr>\n    <tr>\n      <th>15</th>\n      <td>322011</td>\n      <td>0.392928</td>\n      <td>Motivation</td>\n      <td></td>\n      <td></td>\n      <td></td>\n      <td></td>\n    </tr>\n    <tr>\n      <th>16</th>\n      <td>NaN</td>\n      <td>0.710477</td>\n      <td>Intention</td>\n      <td></td>\n      <td></td>\n      <td></td>\n      <td></td>\n    </tr>\n    <tr>\n      <th>17</th>\n      <td>NaN</td>\n      <td>0.630076</td>\n      <td>Attitude</td>\n      <td></td>\n      <td></td>\n      <td></td>\n      <td></td>\n    </tr>\n    <tr>\n      <th>18</th>\n      <td>NaN</td>\n      <td>0.817096</td>\n      <td>Take ownership</td>\n      <td></td>\n      <td></td>\n      <td></td>\n      <td></td>\n    </tr>\n    <tr>\n      <th>19</th>\n      <td>NaN</td>\n      <td>NaN</td>\n      <td>NaN</td>\n      <td></td>\n      <td></td>\n      <td></td>\n      <td></td>\n    </tr>\n    <tr>\n      <th>20</th>\n      <td>219706</td>\n      <td>0.872827</td>\n      <td>Motivation</td>\n      <td></td>\n      <td></td>\n      <td></td>\n      <td></td>\n    </tr>\n    <tr>\n      <th>21</th>\n      <td>NaN</td>\n      <td>0.493724</td>\n      <td>Intention</td>\n      <td></td>\n      <td></td>\n      <td></td>\n      <td></td>\n    </tr>\n    <tr>\n      <th>22</th>\n      <td>NaN</td>\n      <td>0.717032</td>\n      <td>Attitude</td>\n      <td></td>\n      <td></td>\n      <td></td>\n      <td></td>\n    </tr>\n    <tr>\n      <th>23</th>\n      <td>NaN</td>\n      <td>0.979536</td>\n      <td>Take ownership</td>\n      <td></td>\n      <td></td>\n      <td></td>\n      <td></td>\n    </tr>\n    <tr>\n      <th>24</th>\n      <td>NaN</td>\n      <td>NaN</td>\n      <td>NaN</td>\n      <td></td>\n      <td></td>\n      <td></td>\n      <td></td>\n    </tr>\n    <tr>\n      <th>25</th>\n      <td>4251301</td>\n      <td>0.947127</td>\n      <td>Motivation</td>\n      <td></td>\n      <td></td>\n      <td></td>\n      <td></td>\n    </tr>\n    <tr>\n      <th>26</th>\n      <td>NaN</td>\n      <td>0.616590</td>\n      <td>Intention</td>\n      <td></td>\n      <td></td>\n      <td></td>\n      <td></td>\n    </tr>\n    <tr>\n      <th>27</th>\n      <td>NaN</td>\n      <td>0.896948</td>\n      <td>Attitude</td>\n      <td></td>\n      <td></td>\n      <td></td>\n      <td></td>\n    </tr>\n    <tr>\n      <th>28</th>\n      <td>NaN</td>\n      <td>0.921150</td>\n      <td>Take ownership</td>\n      <td></td>\n      <td></td>\n      <td></td>\n      <td></td>\n    </tr>\n    <tr>\n      <th>29</th>\n      <td>NaN</td>\n      <td>NaN</td>\n      <td>NaN</td>\n      <td></td>\n      <td></td>\n      <td></td>\n      <td></td>\n    </tr>\n    <tr>\n      <th>...</th>\n      <td>...</td>\n      <td>...</td>\n      <td>...</td>\n      <td>...</td>\n      <td>...</td>\n      <td>...</td>\n      <td>...</td>\n    </tr>\n    <tr>\n      <th>104</th>\n      <td>NaN</td>\n      <td>NaN</td>\n      <td>NaN</td>\n      <td></td>\n      <td></td>\n      <td></td>\n      <td></td>\n    </tr>\n    <tr>\n      <th>105</th>\n      <td>DMS191941048</td>\n      <td>0.356425</td>\n      <td>Motivation</td>\n      <td></td>\n      <td></td>\n      <td></td>\n      <td></td>\n    </tr>\n    <tr>\n      <th>106</th>\n      <td>NaN</td>\n      <td>0.461736</td>\n      <td>Intention</td>\n      <td></td>\n      <td></td>\n      <td></td>\n      <td></td>\n    </tr>\n    <tr>\n      <th>107</th>\n      <td>NaN</td>\n      <td>0.543047</td>\n      <td>Attitude</td>\n      <td></td>\n      <td></td>\n      <td></td>\n      <td></td>\n    </tr>\n    <tr>\n      <th>108</th>\n      <td>NaN</td>\n      <td>0.643681</td>\n      <td>Take ownership</td>\n      <td></td>\n      <td></td>\n      <td></td>\n      <td></td>\n    </tr>\n    <tr>\n      <th>109</th>\n      <td>NaN</td>\n      <td>NaN</td>\n      <td>NaN</td>\n      <td></td>\n      <td></td>\n      <td></td>\n      <td></td>\n    </tr>\n    <tr>\n      <th>110</th>\n      <td>DMS19194721</td>\n      <td>0.863171</td>\n      <td>Motivation</td>\n      <td></td>\n      <td></td>\n      <td></td>\n      <td></td>\n    </tr>\n    <tr>\n      <th>111</th>\n      <td>NaN</td>\n      <td>0.753433</td>\n      <td>Intention</td>\n      <td></td>\n      <td></td>\n      <td></td>\n      <td></td>\n    </tr>\n    <tr>\n      <th>112</th>\n      <td>NaN</td>\n      <td>0.774057</td>\n      <td>Attitude</td>\n      <td></td>\n      <td></td>\n      <td></td>\n      <td></td>\n    </tr>\n    <tr>\n      <th>113</th>\n      <td>NaN</td>\n      <td>0.680289</td>\n      <td>Take ownership</td>\n      <td></td>\n      <td></td>\n      <td></td>\n      <td></td>\n    </tr>\n    <tr>\n      <th>114</th>\n      <td>NaN</td>\n      <td>NaN</td>\n      <td>NaN</td>\n      <td></td>\n      <td></td>\n      <td></td>\n      <td></td>\n    </tr>\n    <tr>\n      <th>115</th>\n      <td>DMS191941034</td>\n      <td>0.254469</td>\n      <td>Motivation</td>\n      <td></td>\n      <td></td>\n      <td></td>\n      <td></td>\n    </tr>\n    <tr>\n      <th>116</th>\n      <td>NaN</td>\n      <td>0.912929</td>\n      <td>Intention</td>\n      <td></td>\n      <td></td>\n      <td></td>\n      <td></td>\n    </tr>\n    <tr>\n      <th>117</th>\n      <td>NaN</td>\n      <td>0.578132</td>\n      <td>Attitude</td>\n      <td></td>\n      <td></td>\n      <td></td>\n      <td></td>\n    </tr>\n    <tr>\n      <th>118</th>\n      <td>NaN</td>\n      <td>0.379958</td>\n      <td>Take ownership</td>\n      <td></td>\n      <td></td>\n      <td></td>\n      <td></td>\n    </tr>\n    <tr>\n      <th>119</th>\n      <td>NaN</td>\n      <td>NaN</td>\n      <td>NaN</td>\n      <td></td>\n      <td></td>\n      <td></td>\n      <td></td>\n    </tr>\n    <tr>\n      <th>120</th>\n      <td>DMS191941256</td>\n      <td>0.637916</td>\n      <td>Motivation</td>\n      <td></td>\n      <td></td>\n      <td></td>\n      <td></td>\n    </tr>\n    <tr>\n      <th>121</th>\n      <td>NaN</td>\n      <td>0.710646</td>\n      <td>Intention</td>\n      <td></td>\n      <td></td>\n      <td></td>\n      <td></td>\n    </tr>\n    <tr>\n      <th>122</th>\n      <td>NaN</td>\n      <td>0.768774</td>\n      <td>Attitude</td>\n      <td></td>\n      <td></td>\n      <td></td>\n      <td></td>\n    </tr>\n    <tr>\n      <th>123</th>\n      <td>NaN</td>\n      <td>0.565874</td>\n      <td>Take ownership</td>\n      <td></td>\n      <td></td>\n      <td></td>\n      <td></td>\n    </tr>\n    <tr>\n      <th>124</th>\n      <td>NaN</td>\n      <td>NaN</td>\n      <td>NaN</td>\n      <td></td>\n      <td></td>\n      <td></td>\n      <td></td>\n    </tr>\n    <tr>\n      <th>125</th>\n      <td>DM19194729</td>\n      <td>0.722193</td>\n      <td>Motivation</td>\n      <td></td>\n      <td></td>\n      <td></td>\n      <td></td>\n    </tr>\n    <tr>\n      <th>126</th>\n      <td>NaN</td>\n      <td>0.625771</td>\n      <td>Intention</td>\n      <td></td>\n      <td></td>\n      <td></td>\n      <td></td>\n    </tr>\n    <tr>\n      <th>127</th>\n      <td>NaN</td>\n      <td>0.707239</td>\n      <td>Attitude</td>\n      <td></td>\n      <td></td>\n      <td></td>\n      <td></td>\n    </tr>\n    <tr>\n      <th>128</th>\n      <td>NaN</td>\n      <td>0.738471</td>\n      <td>Take ownership</td>\n      <td></td>\n      <td></td>\n      <td></td>\n      <td></td>\n    </tr>\n    <tr>\n      <th>129</th>\n      <td>NaN</td>\n      <td>NaN</td>\n      <td>NaN</td>\n      <td></td>\n      <td></td>\n      <td></td>\n      <td></td>\n    </tr>\n    <tr>\n      <th>130</th>\n      <td>DMS191941114</td>\n      <td>0.155592</td>\n      <td>Motivation</td>\n      <td></td>\n      <td></td>\n      <td></td>\n      <td></td>\n    </tr>\n    <tr>\n      <th>131</th>\n      <td>NaN</td>\n      <td>0.531050</td>\n      <td>Intention</td>\n      <td></td>\n      <td></td>\n      <td></td>\n      <td></td>\n    </tr>\n    <tr>\n      <th>132</th>\n      <td>NaN</td>\n      <td>0.410421</td>\n      <td>Attitude</td>\n      <td></td>\n      <td></td>\n      <td></td>\n      <td></td>\n    </tr>\n    <tr>\n      <th>133</th>\n      <td>NaN</td>\n      <td>0.685535</td>\n      <td>Take ownership</td>\n      <td></td>\n      <td></td>\n      <td></td>\n      <td></td>\n    </tr>\n  </tbody>\n</table>\n<p>134 rows × 7 columns</p>\n</div>"
     },
     "metadata": {},
     "output_type": "execute_result",
     "execution_count": 23
    }
   ],
   "source": [
    "init_db = pd.read_excel(raw_file_loc)\n",
    "feture_set = ['Motivation', 'Intention', 'Attitude', 'Take Ownership']\n",
    "for feature in feture_set:\n",
    "    init_db[feature] = ''\n",
    "    \n",
=======
   "execution_count": 71,
   "outputs": [
    {
     "data": {
      "text/plain": "               ID  Behvior score      Unnamed: 2\n0          219318   0.1132028760      Motivation\n1             NaN   0.6719916526       Intention\n2             NaN   0.5709936695        Attitude\n3             NaN   0.7492233035  Take ownership\n4             NaN            NaN             NaN\n5          218360   0.7565542755      Motivation\n6             NaN   0.6879609590       Intention\n7             NaN   0.8552706630        Attitude\n8             NaN   0.8068656204  Take ownership\n9             NaN            NaN             NaN\n10         322022   0.1081503298      Motivation\n11            NaN   0.6691206551       Intention\n12            NaN   0.5181683198        Attitude\n13            NaN   0.5841770481  Take ownership\n14            NaN            NaN             NaN\n15         322011   0.3929275807      Motivation\n16            NaN   0.7104769594       Intention\n17            NaN   0.6300764383        Attitude\n18            NaN   0.8170963384  Take ownership\n19            NaN            NaN             NaN\n20         219706   0.8728273219      Motivation\n21            NaN   0.4937243448       Intention\n22            NaN   0.7170322745        Attitude\n23            NaN   0.9795364066  Take ownership\n24            NaN            NaN             NaN\n25        4251301   0.9471269678      Motivation\n26            NaN   0.6165895328       Intention\n27            NaN   0.8969480493        Attitude\n28            NaN   0.9211499590  Take ownership\n29            NaN            NaN             NaN\n..            ...            ...             ...\n104           NaN            NaN             NaN\n105  DMS191941048   0.3564245592      Motivation\n106           NaN   0.4617357942       Intention\n107           NaN   0.5430473529        Attitude\n108           NaN   0.6436814216  Take ownership\n109           NaN            NaN             NaN\n110   DMS19194721   0.8631705388      Motivation\n111           NaN   0.7534327090       Intention\n112           NaN   0.7740568563        Attitude\n113           NaN   0.6802888441  Take ownership\n114           NaN            NaN             NaN\n115  DMS191941034   0.2544691346      Motivation\n116           NaN   0.9129285424       Intention\n117           NaN   0.5781319813        Attitude\n118           NaN   0.3799579301  Take ownership\n119           NaN            NaN             NaN\n120  DMS191941256   0.6379162793      Motivation\n121           NaN   0.7106464347       Intention\n122           NaN   0.7687744921        Attitude\n123           NaN   0.5658742422  Take ownership\n124           NaN            NaN             NaN\n125    DM19194729   0.7221931056      Motivation\n126           NaN   0.6257707259       Intention\n127           NaN   0.7072387066        Attitude\n128           NaN   0.7384706153  Take ownership\n129           NaN            NaN             NaN\n130  DMS191941114   0.1555915263      Motivation\n131           NaN   0.5310499280       Intention\n132           NaN   0.4104208039        Attitude\n133           NaN   0.6855349654  Take ownership\n\n[134 rows x 3 columns]",
      "text/html": "<div>\n<style scoped>\n    .dataframe tbody tr th:only-of-type {\n        vertical-align: middle;\n    }\n\n    .dataframe tbody tr th {\n        vertical-align: top;\n    }\n\n    .dataframe thead th {\n        text-align: right;\n    }\n</style>\n<table border=\"1\" class=\"dataframe\">\n  <thead>\n    <tr style=\"text-align: right;\">\n      <th></th>\n      <th>ID</th>\n      <th>Behvior score</th>\n      <th>Unnamed: 2</th>\n    </tr>\n  </thead>\n  <tbody>\n    <tr>\n      <th>0</th>\n      <td>219318</td>\n      <td>0.1132028760</td>\n      <td>Motivation</td>\n    </tr>\n    <tr>\n      <th>1</th>\n      <td>NaN</td>\n      <td>0.6719916526</td>\n      <td>Intention</td>\n    </tr>\n    <tr>\n      <th>2</th>\n      <td>NaN</td>\n      <td>0.5709936695</td>\n      <td>Attitude</td>\n    </tr>\n    <tr>\n      <th>3</th>\n      <td>NaN</td>\n      <td>0.7492233035</td>\n      <td>Take ownership</td>\n    </tr>\n    <tr>\n      <th>4</th>\n      <td>NaN</td>\n      <td>NaN</td>\n      <td>NaN</td>\n    </tr>\n    <tr>\n      <th>5</th>\n      <td>218360</td>\n      <td>0.7565542755</td>\n      <td>Motivation</td>\n    </tr>\n    <tr>\n      <th>6</th>\n      <td>NaN</td>\n      <td>0.6879609590</td>\n      <td>Intention</td>\n    </tr>\n    <tr>\n      <th>7</th>\n      <td>NaN</td>\n      <td>0.8552706630</td>\n      <td>Attitude</td>\n    </tr>\n    <tr>\n      <th>8</th>\n      <td>NaN</td>\n      <td>0.8068656204</td>\n      <td>Take ownership</td>\n    </tr>\n    <tr>\n      <th>9</th>\n      <td>NaN</td>\n      <td>NaN</td>\n      <td>NaN</td>\n    </tr>\n    <tr>\n      <th>10</th>\n      <td>322022</td>\n      <td>0.1081503298</td>\n      <td>Motivation</td>\n    </tr>\n    <tr>\n      <th>11</th>\n      <td>NaN</td>\n      <td>0.6691206551</td>\n      <td>Intention</td>\n    </tr>\n    <tr>\n      <th>12</th>\n      <td>NaN</td>\n      <td>0.5181683198</td>\n      <td>Attitude</td>\n    </tr>\n    <tr>\n      <th>13</th>\n      <td>NaN</td>\n      <td>0.5841770481</td>\n      <td>Take ownership</td>\n    </tr>\n    <tr>\n      <th>14</th>\n      <td>NaN</td>\n      <td>NaN</td>\n      <td>NaN</td>\n    </tr>\n    <tr>\n      <th>15</th>\n      <td>322011</td>\n      <td>0.3929275807</td>\n      <td>Motivation</td>\n    </tr>\n    <tr>\n      <th>16</th>\n      <td>NaN</td>\n      <td>0.7104769594</td>\n      <td>Intention</td>\n    </tr>\n    <tr>\n      <th>17</th>\n      <td>NaN</td>\n      <td>0.6300764383</td>\n      <td>Attitude</td>\n    </tr>\n    <tr>\n      <th>18</th>\n      <td>NaN</td>\n      <td>0.8170963384</td>\n      <td>Take ownership</td>\n    </tr>\n    <tr>\n      <th>19</th>\n      <td>NaN</td>\n      <td>NaN</td>\n      <td>NaN</td>\n    </tr>\n    <tr>\n      <th>20</th>\n      <td>219706</td>\n      <td>0.8728273219</td>\n      <td>Motivation</td>\n    </tr>\n    <tr>\n      <th>21</th>\n      <td>NaN</td>\n      <td>0.4937243448</td>\n      <td>Intention</td>\n    </tr>\n    <tr>\n      <th>22</th>\n      <td>NaN</td>\n      <td>0.7170322745</td>\n      <td>Attitude</td>\n    </tr>\n    <tr>\n      <th>23</th>\n      <td>NaN</td>\n      <td>0.9795364066</td>\n      <td>Take ownership</td>\n    </tr>\n    <tr>\n      <th>24</th>\n      <td>NaN</td>\n      <td>NaN</td>\n      <td>NaN</td>\n    </tr>\n    <tr>\n      <th>25</th>\n      <td>4251301</td>\n      <td>0.9471269678</td>\n      <td>Motivation</td>\n    </tr>\n    <tr>\n      <th>26</th>\n      <td>NaN</td>\n      <td>0.6165895328</td>\n      <td>Intention</td>\n    </tr>\n    <tr>\n      <th>27</th>\n      <td>NaN</td>\n      <td>0.8969480493</td>\n      <td>Attitude</td>\n    </tr>\n    <tr>\n      <th>28</th>\n      <td>NaN</td>\n      <td>0.9211499590</td>\n      <td>Take ownership</td>\n    </tr>\n    <tr>\n      <th>29</th>\n      <td>NaN</td>\n      <td>NaN</td>\n      <td>NaN</td>\n    </tr>\n    <tr>\n      <th>...</th>\n      <td>...</td>\n      <td>...</td>\n      <td>...</td>\n    </tr>\n    <tr>\n      <th>104</th>\n      <td>NaN</td>\n      <td>NaN</td>\n      <td>NaN</td>\n    </tr>\n    <tr>\n      <th>105</th>\n      <td>DMS191941048</td>\n      <td>0.3564245592</td>\n      <td>Motivation</td>\n    </tr>\n    <tr>\n      <th>106</th>\n      <td>NaN</td>\n      <td>0.4617357942</td>\n      <td>Intention</td>\n    </tr>\n    <tr>\n      <th>107</th>\n      <td>NaN</td>\n      <td>0.5430473529</td>\n      <td>Attitude</td>\n    </tr>\n    <tr>\n      <th>108</th>\n      <td>NaN</td>\n      <td>0.6436814216</td>\n      <td>Take ownership</td>\n    </tr>\n    <tr>\n      <th>109</th>\n      <td>NaN</td>\n      <td>NaN</td>\n      <td>NaN</td>\n    </tr>\n    <tr>\n      <th>110</th>\n      <td>DMS19194721</td>\n      <td>0.8631705388</td>\n      <td>Motivation</td>\n    </tr>\n    <tr>\n      <th>111</th>\n      <td>NaN</td>\n      <td>0.7534327090</td>\n      <td>Intention</td>\n    </tr>\n    <tr>\n      <th>112</th>\n      <td>NaN</td>\n      <td>0.7740568563</td>\n      <td>Attitude</td>\n    </tr>\n    <tr>\n      <th>113</th>\n      <td>NaN</td>\n      <td>0.6802888441</td>\n      <td>Take ownership</td>\n    </tr>\n    <tr>\n      <th>114</th>\n      <td>NaN</td>\n      <td>NaN</td>\n      <td>NaN</td>\n    </tr>\n    <tr>\n      <th>115</th>\n      <td>DMS191941034</td>\n      <td>0.2544691346</td>\n      <td>Motivation</td>\n    </tr>\n    <tr>\n      <th>116</th>\n      <td>NaN</td>\n      <td>0.9129285424</td>\n      <td>Intention</td>\n    </tr>\n    <tr>\n      <th>117</th>\n      <td>NaN</td>\n      <td>0.5781319813</td>\n      <td>Attitude</td>\n    </tr>\n    <tr>\n      <th>118</th>\n      <td>NaN</td>\n      <td>0.3799579301</td>\n      <td>Take ownership</td>\n    </tr>\n    <tr>\n      <th>119</th>\n      <td>NaN</td>\n      <td>NaN</td>\n      <td>NaN</td>\n    </tr>\n    <tr>\n      <th>120</th>\n      <td>DMS191941256</td>\n      <td>0.6379162793</td>\n      <td>Motivation</td>\n    </tr>\n    <tr>\n      <th>121</th>\n      <td>NaN</td>\n      <td>0.7106464347</td>\n      <td>Intention</td>\n    </tr>\n    <tr>\n      <th>122</th>\n      <td>NaN</td>\n      <td>0.7687744921</td>\n      <td>Attitude</td>\n    </tr>\n    <tr>\n      <th>123</th>\n      <td>NaN</td>\n      <td>0.5658742422</td>\n      <td>Take ownership</td>\n    </tr>\n    <tr>\n      <th>124</th>\n      <td>NaN</td>\n      <td>NaN</td>\n      <td>NaN</td>\n    </tr>\n    <tr>\n      <th>125</th>\n      <td>DM19194729</td>\n      <td>0.7221931056</td>\n      <td>Motivation</td>\n    </tr>\n    <tr>\n      <th>126</th>\n      <td>NaN</td>\n      <td>0.6257707259</td>\n      <td>Intention</td>\n    </tr>\n    <tr>\n      <th>127</th>\n      <td>NaN</td>\n      <td>0.7072387066</td>\n      <td>Attitude</td>\n    </tr>\n    <tr>\n      <th>128</th>\n      <td>NaN</td>\n      <td>0.7384706153</td>\n      <td>Take ownership</td>\n    </tr>\n    <tr>\n      <th>129</th>\n      <td>NaN</td>\n      <td>NaN</td>\n      <td>NaN</td>\n    </tr>\n    <tr>\n      <th>130</th>\n      <td>DMS191941114</td>\n      <td>0.1555915263</td>\n      <td>Motivation</td>\n    </tr>\n    <tr>\n      <th>131</th>\n      <td>NaN</td>\n      <td>0.5310499280</td>\n      <td>Intention</td>\n    </tr>\n    <tr>\n      <th>132</th>\n      <td>NaN</td>\n      <td>0.4104208039</td>\n      <td>Attitude</td>\n    </tr>\n    <tr>\n      <th>133</th>\n      <td>NaN</td>\n      <td>0.6855349654</td>\n      <td>Take ownership</td>\n    </tr>\n  </tbody>\n</table>\n<p>134 rows × 3 columns</p>\n</div>"
     },
     "metadata": {},
     "output_type": "execute_result",
     "execution_count": 71
    }
   ],
   "source": [
    "pd.set_option(\"display.precision\", 15)\n",
    "init_db = pd.read_excel(raw_file_loc)\n",
    "header = ['ID','Motivation', 'Intention', 'Attitude', 'Take Ownership']\n",
    "features = ['Motivation', 'Intention', 'Attitude', 'Take Ownership']\n",
>>>>>>> 21786f9e474ea7cd86ddb8068f284e36f1993450
    "init_db"
   ],
   "metadata": {
    "collapsed": false,
    "pycharm": {
     "name": "#%%\n",
     "is_executing": false
    }
   }
  },
  {
   "cell_type": "code",
<<<<<<< HEAD
   "execution_count": 24,
=======
   "execution_count": 72,
>>>>>>> 21786f9e474ea7cd86ddb8068f284e36f1993450
   "outputs": [
    {
     "name": "stdout",
     "text": [
<<<<<<< HEAD
      "ID\nBehvior score\nUnnamed: 2\nMotivation\nIntention\nAttitude\nTake Ownership\n"
=======
      "ID\nBehvior score\nUnnamed: 2\n"
>>>>>>> 21786f9e474ea7cd86ddb8068f284e36f1993450
     ],
     "output_type": "stream"
    }
   ],
   "source": [
    "\n",
    "for col in init_db.columns:\n",
    "    print(col)\n",
    "    \n"
   ],
   "metadata": {
    "collapsed": false,
    "pycharm": {
     "name": "#%%\n",
     "is_executing": false
    }
   }
  },
  {
   "cell_type": "code",
<<<<<<< HEAD
   "execution_count": 37,
   "outputs": [
    {
     "name": "stdout",
     "text": [
      "219318 0.113202876\nnan 0.6719916526\nnan 0.5709936695\nnan 0.7492233035\nnan nan\n218360 0.7565542755\nnan 0.687960959\nnan 0.855270663\nnan 0.8068656204\nnan nan\n322022 0.1081503298\nnan 0.6691206551\nnan 0.5181683198\nnan 0.5841770481\nnan nan\n322011 0.3929275807\nnan 0.7104769594\nnan 0.6300764383\nnan 0.8170963384\nnan nan\n219706 0.8728273219\nnan 0.4937243448\nnan 0.7170322745\nnan 0.9795364066\nnan nan\n4251301 0.9471269678\nnan 0.6165895328\nnan 0.8969480493\nnan 0.921149959\nnan nan\n4251302 0.8523322792\nnan 0.7522959538\nnan 0.7657218469\nnan 0.865437022\nnan nan\n4251303 0.5744300261\nnan 0.4740995036\nnan 0.7599060266\nnan 0.990586747\nnan nan\n4251304 0.2683117828\nnan 0.8177343728\nnan 0.705720734\nnan 0.8095816974\nnan nan\n4251305 0.5847022951\nnan 0.8724913765\nnan 0.8450305905\nnan 0.8202216872\nnan nan\n4251306 0.5779300311\nnan 0.8632498981\nnan 0.8186590357\nnan 0.9773784277\nnan nan\n4251307 0.5171937623\nnan 0.7956979425\nnan 0.6875695359\nnan 0.4825790587\nnan nan\n4251308 0.3029896774\nnan 0.8119739393\nnan 0.7292736034\nnan 0.7590458283\nnan nan\n4251309 0.5505950779\nnan 0.6486120814\nnan 0.7131139618\nnan 0.8050052937\nnan nan\n4251310 0.4608220503\nnan 0.6327635131\nnan 0.6471018552\nnan 0.9667745656\nnan nan\n4251311 0.3266503548\nnan 0.5525879683\nnan 0.582887446\nnan 0.7005796078\nnan nan\n4251312 0.410144699\nnan 0.3936417131\nnan 0.5067819921\nnan 0.7444980737\nnan nan\n4251313 0.115696733\nnan 0.6712341674\nnan 0.5515022535\nnan 0.568925178\nnan nan\n4251314 0.3468367261\nnan 0.3327459885\nnan 0.5112254192\nnan 0.7454282371\nnan nan\n4251315 0.287750304\nnan 0.8343974554\nnan 0.5892139779\nnan 0.6386585395\nnan nan\nDM19194738 0.2461358015\nnan 0.3550148556\nnan 0.462420168\nnan 0.7611378415\nnan nan\nDMS191941048 0.3564245592\nnan 0.4617357942\nnan 0.5430473529\nnan 0.6436814216\nnan nan\nDMS19194721 0.8631705388\nnan 0.753432709\nnan 0.7740568563\nnan 0.6802888441\nnan nan\nDMS191941034 0.2544691346\nnan 0.9129285424\nnan 0.5781319813\nnan 0.3799579301\nnan nan\nDMS191941256 0.6379162793\nnan 0.7106464347\nnan 0.7687744921\nnan 0.5658742422\nnan nan\nDM19194729 0.7221931056\nnan 0.6257707259\nnan 0.7072387066\nnan 0.7384706153\nnan nan\nDMS191941114 0.1555915263\nnan 0.531049928\nnan 0.4104208039\nnan 0.6855349654\n"
     ],
     "output_type": "stream"
    },
    {
     "data": {
      "text/plain": "0      None\n1      None\n2      None\n3      None\n4      None\n5      None\n6      None\n7      None\n8      None\n9      None\n10     None\n11     None\n12     None\n13     None\n14     None\n15     None\n16     None\n17     None\n18     None\n19     None\n20     None\n21     None\n22     None\n23     None\n24     None\n25     None\n26     None\n27     None\n28     None\n29     None\n       ... \n104    None\n105    None\n106    None\n107    None\n108    None\n109    None\n110    None\n111    None\n112    None\n113    None\n114    None\n115    None\n116    None\n117    None\n118    None\n119    None\n120    None\n121    None\n122    None\n123    None\n124    None\n125    None\n126    None\n127    None\n128    None\n129    None\n130    None\n131    None\n132    None\n133    None\nLength: 134, dtype: object"
     },
     "metadata": {},
     "output_type": "execute_result",
     "execution_count": 37
    }
   ],
   "source": [
    "\n",
    "table_row = []\n",
    "row_count = 0\n",
    "def process(x):\n",
    "    if row_count % 5 == 0:\n",
    "        table_row.append(x['ID'])   \n",
    "        table_row.append(x['Behvior score'])\n",
    "        \n",
    "    \n",
    "init_db.apply(process, axis=1)"
=======
   "execution_count": 73,
   "outputs": [],
   "source": [
    "\n",
    "table_row = []\n",
    "table = []\n",
    "def process(x):\n",
    "    row_number =  process.counter % 5\n",
    "    if row_number == 0:\n",
    "        table_row.append(x['ID'])   \n",
    "        table_row.append(x['Behvior score'])\n",
    "        \n",
    "    elif row_number == 1: \n",
    "        table_row.append(x['Behvior score'])\n",
    "    elif row_number == 2: \n",
    "        table_row.append(x['Behvior score'])\n",
    "    elif row_number == 3:  \n",
    "        table_row.append(x['Behvior score'])\n",
    "    elif row_number == 4:\n",
    "        process.final_return.append(deepcopy(table_row))\n",
    "        table_row.clear()\n",
    "    process.counter +=1\n",
    "    # return x\n",
    "    \n",
    "        \n",
    "        \n",
    "process.counter = 0\n",
    "process.final_return = []\n",
    "init_db = init_db.apply(process, axis=1)\n",
    "\n"
   ],
   "metadata": {
    "collapsed": false,
    "pycharm": {
     "name": "#%%\n",
     "is_executing": false
    }
   }
  },
  {
   "cell_type": "code",
   "execution_count": 74,
   "outputs": [
    {
     "data": {
      "text/plain": "              ID    Motivation     Intention      Attitude  Take Ownership\n0         219318  0.1132028760  0.6719916526  0.5709936695    0.7492233035\n1         218360  0.7565542755  0.6879609590  0.8552706630    0.8068656204\n2         322022  0.1081503298  0.6691206551  0.5181683198    0.5841770481\n3         322011  0.3929275807  0.7104769594  0.6300764383    0.8170963384\n4         219706  0.8728273219  0.4937243448  0.7170322745    0.9795364066\n5        4251301  0.9471269678  0.6165895328  0.8969480493    0.9211499590\n6        4251302  0.8523322792  0.7522959538  0.7657218469    0.8654370220\n7        4251303  0.5744300261  0.4740995036  0.7599060266    0.9905867470\n8        4251304  0.2683117828  0.8177343728  0.7057207340    0.8095816974\n9        4251305  0.5847022951  0.8724913765  0.8450305905    0.8202216872\n10       4251306  0.5779300311  0.8632498981  0.8186590357    0.9773784277\n11       4251307  0.5171937623  0.7956979425  0.6875695359    0.4825790587\n12       4251308  0.3029896774  0.8119739393  0.7292736034    0.7590458283\n13       4251309  0.5505950779  0.6486120814  0.7131139618    0.8050052937\n14       4251310  0.4608220503  0.6327635131  0.6471018552    0.9667745656\n15       4251311  0.3266503548  0.5525879683  0.5828874460    0.7005796078\n16       4251312  0.4101446990  0.3936417131  0.5067819921    0.7444980737\n17       4251313  0.1156967330  0.6712341674  0.5515022535    0.5689251780\n18       4251314  0.3468367261  0.3327459885  0.5112254192    0.7454282371\n19       4251315  0.2877503040  0.8343974554  0.5892139779    0.6386585395\n20    DM19194738  0.2461358015  0.3550148556  0.4624201680    0.7611378415\n21  DMS191941048  0.3564245592  0.4617357942  0.5430473529    0.6436814216\n22   DMS19194721  0.8631705388  0.7534327090  0.7740568563    0.6802888441\n23  DMS191941034  0.2544691346  0.9129285424  0.5781319813    0.3799579301\n24  DMS191941256  0.6379162793  0.7106464347  0.7687744921    0.5658742422\n25    DM19194729  0.7221931056  0.6257707259  0.7072387066    0.7384706153",
      "text/html": "<div>\n<style scoped>\n    .dataframe tbody tr th:only-of-type {\n        vertical-align: middle;\n    }\n\n    .dataframe tbody tr th {\n        vertical-align: top;\n    }\n\n    .dataframe thead th {\n        text-align: right;\n    }\n</style>\n<table border=\"1\" class=\"dataframe\">\n  <thead>\n    <tr style=\"text-align: right;\">\n      <th></th>\n      <th>ID</th>\n      <th>Motivation</th>\n      <th>Intention</th>\n      <th>Attitude</th>\n      <th>Take Ownership</th>\n    </tr>\n  </thead>\n  <tbody>\n    <tr>\n      <th>0</th>\n      <td>219318</td>\n      <td>0.1132028760</td>\n      <td>0.6719916526</td>\n      <td>0.5709936695</td>\n      <td>0.7492233035</td>\n    </tr>\n    <tr>\n      <th>1</th>\n      <td>218360</td>\n      <td>0.7565542755</td>\n      <td>0.6879609590</td>\n      <td>0.8552706630</td>\n      <td>0.8068656204</td>\n    </tr>\n    <tr>\n      <th>2</th>\n      <td>322022</td>\n      <td>0.1081503298</td>\n      <td>0.6691206551</td>\n      <td>0.5181683198</td>\n      <td>0.5841770481</td>\n    </tr>\n    <tr>\n      <th>3</th>\n      <td>322011</td>\n      <td>0.3929275807</td>\n      <td>0.7104769594</td>\n      <td>0.6300764383</td>\n      <td>0.8170963384</td>\n    </tr>\n    <tr>\n      <th>4</th>\n      <td>219706</td>\n      <td>0.8728273219</td>\n      <td>0.4937243448</td>\n      <td>0.7170322745</td>\n      <td>0.9795364066</td>\n    </tr>\n    <tr>\n      <th>5</th>\n      <td>4251301</td>\n      <td>0.9471269678</td>\n      <td>0.6165895328</td>\n      <td>0.8969480493</td>\n      <td>0.9211499590</td>\n    </tr>\n    <tr>\n      <th>6</th>\n      <td>4251302</td>\n      <td>0.8523322792</td>\n      <td>0.7522959538</td>\n      <td>0.7657218469</td>\n      <td>0.8654370220</td>\n    </tr>\n    <tr>\n      <th>7</th>\n      <td>4251303</td>\n      <td>0.5744300261</td>\n      <td>0.4740995036</td>\n      <td>0.7599060266</td>\n      <td>0.9905867470</td>\n    </tr>\n    <tr>\n      <th>8</th>\n      <td>4251304</td>\n      <td>0.2683117828</td>\n      <td>0.8177343728</td>\n      <td>0.7057207340</td>\n      <td>0.8095816974</td>\n    </tr>\n    <tr>\n      <th>9</th>\n      <td>4251305</td>\n      <td>0.5847022951</td>\n      <td>0.8724913765</td>\n      <td>0.8450305905</td>\n      <td>0.8202216872</td>\n    </tr>\n    <tr>\n      <th>10</th>\n      <td>4251306</td>\n      <td>0.5779300311</td>\n      <td>0.8632498981</td>\n      <td>0.8186590357</td>\n      <td>0.9773784277</td>\n    </tr>\n    <tr>\n      <th>11</th>\n      <td>4251307</td>\n      <td>0.5171937623</td>\n      <td>0.7956979425</td>\n      <td>0.6875695359</td>\n      <td>0.4825790587</td>\n    </tr>\n    <tr>\n      <th>12</th>\n      <td>4251308</td>\n      <td>0.3029896774</td>\n      <td>0.8119739393</td>\n      <td>0.7292736034</td>\n      <td>0.7590458283</td>\n    </tr>\n    <tr>\n      <th>13</th>\n      <td>4251309</td>\n      <td>0.5505950779</td>\n      <td>0.6486120814</td>\n      <td>0.7131139618</td>\n      <td>0.8050052937</td>\n    </tr>\n    <tr>\n      <th>14</th>\n      <td>4251310</td>\n      <td>0.4608220503</td>\n      <td>0.6327635131</td>\n      <td>0.6471018552</td>\n      <td>0.9667745656</td>\n    </tr>\n    <tr>\n      <th>15</th>\n      <td>4251311</td>\n      <td>0.3266503548</td>\n      <td>0.5525879683</td>\n      <td>0.5828874460</td>\n      <td>0.7005796078</td>\n    </tr>\n    <tr>\n      <th>16</th>\n      <td>4251312</td>\n      <td>0.4101446990</td>\n      <td>0.3936417131</td>\n      <td>0.5067819921</td>\n      <td>0.7444980737</td>\n    </tr>\n    <tr>\n      <th>17</th>\n      <td>4251313</td>\n      <td>0.1156967330</td>\n      <td>0.6712341674</td>\n      <td>0.5515022535</td>\n      <td>0.5689251780</td>\n    </tr>\n    <tr>\n      <th>18</th>\n      <td>4251314</td>\n      <td>0.3468367261</td>\n      <td>0.3327459885</td>\n      <td>0.5112254192</td>\n      <td>0.7454282371</td>\n    </tr>\n    <tr>\n      <th>19</th>\n      <td>4251315</td>\n      <td>0.2877503040</td>\n      <td>0.8343974554</td>\n      <td>0.5892139779</td>\n      <td>0.6386585395</td>\n    </tr>\n    <tr>\n      <th>20</th>\n      <td>DM19194738</td>\n      <td>0.2461358015</td>\n      <td>0.3550148556</td>\n      <td>0.4624201680</td>\n      <td>0.7611378415</td>\n    </tr>\n    <tr>\n      <th>21</th>\n      <td>DMS191941048</td>\n      <td>0.3564245592</td>\n      <td>0.4617357942</td>\n      <td>0.5430473529</td>\n      <td>0.6436814216</td>\n    </tr>\n    <tr>\n      <th>22</th>\n      <td>DMS19194721</td>\n      <td>0.8631705388</td>\n      <td>0.7534327090</td>\n      <td>0.7740568563</td>\n      <td>0.6802888441</td>\n    </tr>\n    <tr>\n      <th>23</th>\n      <td>DMS191941034</td>\n      <td>0.2544691346</td>\n      <td>0.9129285424</td>\n      <td>0.5781319813</td>\n      <td>0.3799579301</td>\n    </tr>\n    <tr>\n      <th>24</th>\n      <td>DMS191941256</td>\n      <td>0.6379162793</td>\n      <td>0.7106464347</td>\n      <td>0.7687744921</td>\n      <td>0.5658742422</td>\n    </tr>\n    <tr>\n      <th>25</th>\n      <td>DM19194729</td>\n      <td>0.7221931056</td>\n      <td>0.6257707259</td>\n      <td>0.7072387066</td>\n      <td>0.7384706153</td>\n    </tr>\n  </tbody>\n</table>\n</div>"
     },
     "metadata": {},
     "output_type": "execute_result",
     "execution_count": 74
    }
   ],
   "source": [
    "df = pd.DataFrame(process.final_return, columns=header)\n",
    "df\n"
   ],
   "metadata": {
    "collapsed": false,
    "pycharm": {
     "name": "#%%\n",
     "is_executing": false
    }
   }
  },
  {
   "cell_type": "code",
   "execution_count": 74,
   "outputs": [],
   "source": [
    "\n"
>>>>>>> 21786f9e474ea7cd86ddb8068f284e36f1993450
   ],
   "metadata": {
    "collapsed": false,
    "pycharm": {
     "name": "#%%\n",
     "is_executing": false
    }
   }
  },
  {
   "cell_type": "code",
<<<<<<< HEAD
=======
   "execution_count": 74,
   "outputs": [],
   "source": [],
   "metadata": {
    "collapsed": false,
    "pycharm": {
     "name": "#%%\n",
     "is_executing": false
    }
   }
  },
  {
   "cell_type": "code",
   "execution_count": 74,
   "outputs": [],
   "source": [],
   "metadata": {
    "collapsed": false,
    "pycharm": {
     "name": "#%%\n",
     "is_executing": false
    }
   }
  },
  {
   "cell_type": "code",
   "execution_count": 74,
   "outputs": [],
   "source": [],
   "metadata": {
    "collapsed": false,
    "pycharm": {
     "name": "#%%\n",
     "is_executing": false
    }
   }
  },
  {
   "cell_type": "code",
>>>>>>> 21786f9e474ea7cd86ddb8068f284e36f1993450
   "execution_count": null,
   "outputs": [],
   "source": [
    "\n"
   ],
   "metadata": {
    "collapsed": false,
    "pycharm": {
     "name": "#%%\n"
    }
   }
  }
 ],
 "metadata": {
  "language_info": {
   "codemirror_mode": {
    "name": "ipython",
    "version": 2
   },
   "file_extension": ".py",
   "mimetype": "text/x-python",
   "name": "python",
   "nbconvert_exporter": "python",
   "pygments_lexer": "ipython2",
   "version": "2.7.6"
  },
  "kernelspec": {
   "name": "python3",
   "language": "python",
   "display_name": "Python 3"
  },
  "pycharm": {
   "stem_cell": {
    "cell_type": "raw",
    "source": [],
    "metadata": {
     "collapsed": false
    }
   }
  }
 },
 "nbformat": 4,
 "nbformat_minor": 0
}